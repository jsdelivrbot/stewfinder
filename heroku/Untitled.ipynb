{
 "cells": [
  {
   "cell_type": "code",
   "execution_count": 1,
   "metadata": {},
   "outputs": [],
   "source": [
    "import time\n",
    "\n",
    "import requests\n",
    "\n",
    "import soopProcess\n",
    "import soopPull\n"
   ]
  },
  {
   "cell_type": "code",
   "execution_count": 2,
   "metadata": {},
   "outputs": [],
   "source": [
    "bozeMag = soopProcess.processor(\n",
    "    baseUrl='http://bozemanmagazine.com/events',\n",
    "    linkRegex='/' + time.strftime('%Y/%m/%d') + '.*',\n",
    "    urlType='crawled',\n",
    "    linkBase='http://bozemanmagazine.com/events',\n",
    "    today=True,\n",
    ")\n"
   ]
  },
  {
   "cell_type": "code",
   "execution_count": 7,
   "metadata": {},
   "outputs": [
    {
     "data": {
      "text/plain": [
       "'http://bozemanmagazine.com/events/2018/06/15/62057_the_max-46089-1'"
      ]
     },
     "execution_count": 7,
     "metadata": {},
     "output_type": "execute_result"
    }
   ],
   "source": [
    "bozeMag.check_links()[0]"
   ]
  },
  {
   "cell_type": "code",
   "execution_count": 2,
   "metadata": {},
   "outputs": [],
   "source": [
    "links = bozeMag.check_links()"
   ]
  },
  {
   "cell_type": "code",
   "execution_count": 3,
   "metadata": {},
   "outputs": [
    {
     "data": {
      "text/plain": [
       "'http://bozemanmagazine.com/events//2018/06/15/61859_gvlt_discovery_walk_amphibious_adventures_kids'"
      ]
     },
     "execution_count": 3,
     "metadata": {},
     "output_type": "execute_result"
    }
   ],
   "source": [
    "links[0]"
   ]
  },
  {
   "cell_type": "code",
   "execution_count": 5,
   "metadata": {},
   "outputs": [],
   "source": [
    "msuData = msu.process(\n",
    "    whenTag='dd',\n",
    "    locationTag='dd',\n",
    "    #locationRegex='^(?!.*(Monday|Tuesday|Wednesday|Thursday|Friday|Saturday|Sunday))',\n",
    "    descTag='main',\n",
    "    descClass='col-sm-8',\n",
    "    important_weight=100,\n",
    "    num_sentences=2\n",
    ")\n",
    "\n",
    "bozeMagData = bozeMag.process(\n",
    "    whenTag='p',\n",
    "    whenClass='date',\n",
    "    descTag='div',\n",
    "    descClass='description',\n",
    "    # locationTag='address',\n",
    "    # locationClass='location_text',\n",
    "    important_weight=100,\n",
    "    num_sentences=2\n",
    ")\n"
   ]
  },
  {
   "cell_type": "code",
   "execution_count": 6,
   "metadata": {},
   "outputs": [
    {
     "data": {
      "text/html": [
       "<div>\n",
       "<style scoped>\n",
       "    .dataframe tbody tr th:only-of-type {\n",
       "        vertical-align: middle;\n",
       "    }\n",
       "\n",
       "    .dataframe tbody tr th {\n",
       "        vertical-align: top;\n",
       "    }\n",
       "\n",
       "    .dataframe thead th {\n",
       "        text-align: right;\n",
       "    }\n",
       "</style>\n",
       "<table border=\"1\" class=\"dataframe\">\n",
       "  <thead>\n",
       "    <tr style=\"text-align: right;\">\n",
       "      <th></th>\n",
       "      <th>lxml</th>\n",
       "      <th>outUrl</th>\n",
       "      <th>text</th>\n",
       "      <th>food</th>\n",
       "      <th>title</th>\n",
       "      <th>day</th>\n",
       "      <th>when</th>\n",
       "      <th>location</th>\n",
       "      <th>details</th>\n",
       "    </tr>\n",
       "  </thead>\n",
       "  <tbody>\n",
       "    <tr>\n",
       "      <th>6</th>\n",
       "      <td>&lt;!DOCTYPE html&gt;\n",
       "&lt;!--[if lt IE 7]&gt; &lt;html class=...</td>\n",
       "      <td>http://bozemanmagazine.com/events//2018/06/15/...</td>\n",
       "      <td>Wild Sheep Foundation is partnering with South...</td>\n",
       "      <td>[free, bbq]</td>\n",
       "      <td>Gear, Beer, and BBQ at Wild Sheep Foundation -...</td>\n",
       "      <td>6/15/2018</td>\n",
       "      <td>Fri. Jun. 15 3-7pm...</td>\n",
       "      <td>None</td>\n",
       "      <td>Wild Sheep Foundation is partnering with South...</td>\n",
       "    </tr>\n",
       "    <tr>\n",
       "      <th>13</th>\n",
       "      <td>&lt;!DOCTYPE html&gt;\n",
       "&lt;!--[if lt IE 7]&gt; &lt;html class=...</td>\n",
       "      <td>http://bozemanmagazine.com/events//2018/06/15/...</td>\n",
       "      <td>Read, sing, talk, play, write together! Presch...</td>\n",
       "      <td>[free]</td>\n",
       "      <td>Preschool Storytime - Belgrade Community Library</td>\n",
       "      <td>6/15/2018</td>\n",
       "      <td>Every Friday until Jul. 27, 11:15am-noon...</td>\n",
       "      <td>None</td>\n",
       "      <td>Preschool storytime includes stories, songs, a...</td>\n",
       "    </tr>\n",
       "    <tr>\n",
       "      <th>15</th>\n",
       "      <td>&lt;!DOCTYPE html&gt;\n",
       "&lt;!--[if lt IE 7]&gt; &lt;html class=...</td>\n",
       "      <td>http://bozemanmagazine.com/events//2018/06/15/...</td>\n",
       "      <td>An evening of music performed by local musicia...</td>\n",
       "      <td>[coffee]</td>\n",
       "      <td>Open Mic Night - Wild Joe's Coffee Spot</td>\n",
       "      <td>6/15/2018</td>\n",
       "      <td>Sat. Jun. 2 6pm...</td>\n",
       "      <td>None</td>\n",
       "      <td>Bring your guitar, sitar, zither, poetry, come...</td>\n",
       "    </tr>\n",
       "  </tbody>\n",
       "</table>\n",
       "</div>"
      ],
      "text/plain": [
       "                                                 lxml  \\\n",
       "6   <!DOCTYPE html>\n",
       "<!--[if lt IE 7]> <html class=...   \n",
       "13  <!DOCTYPE html>\n",
       "<!--[if lt IE 7]> <html class=...   \n",
       "15  <!DOCTYPE html>\n",
       "<!--[if lt IE 7]> <html class=...   \n",
       "\n",
       "                                               outUrl  \\\n",
       "6   http://bozemanmagazine.com/events//2018/06/15/...   \n",
       "13  http://bozemanmagazine.com/events//2018/06/15/...   \n",
       "15  http://bozemanmagazine.com/events//2018/06/15/...   \n",
       "\n",
       "                                                 text         food  \\\n",
       "6   Wild Sheep Foundation is partnering with South...  [free, bbq]   \n",
       "13  Read, sing, talk, play, write together! Presch...       [free]   \n",
       "15  An evening of music performed by local musicia...     [coffee]   \n",
       "\n",
       "                                                title        day  \\\n",
       "6   Gear, Beer, and BBQ at Wild Sheep Foundation -...  6/15/2018   \n",
       "13   Preschool Storytime - Belgrade Community Library  6/15/2018   \n",
       "15            Open Mic Night - Wild Joe's Coffee Spot  6/15/2018   \n",
       "\n",
       "                                           when location  \\\n",
       "6                         Fri. Jun. 15 3-7pm...     None   \n",
       "13  Every Friday until Jul. 27, 11:15am-noon...     None   \n",
       "15                           Sat. Jun. 2 6pm...     None   \n",
       "\n",
       "                                              details  \n",
       "6   Wild Sheep Foundation is partnering with South...  \n",
       "13  Preschool storytime includes stories, songs, a...  \n",
       "15  Bring your guitar, sitar, zither, poetry, come...  "
      ]
     },
     "execution_count": 6,
     "metadata": {},
     "output_type": "execute_result"
    }
   ],
   "source": [
    "bozeMagData"
   ]
  },
  {
   "cell_type": "code",
   "execution_count": 4,
   "metadata": {},
   "outputs": [],
   "source": [
    "soup = msuData.lxml[4]\n",
    "import re"
   ]
  },
  {
   "cell_type": "code",
   "execution_count": 5,
   "metadata": {},
   "outputs": [],
   "source": [
    "locationList = [x.text for x in soup.find_all('dd')]"
   ]
  },
  {
   "cell_type": "code",
   "execution_count": 6,
   "metadata": {},
   "outputs": [
    {
     "data": {
      "text/plain": [
       "['Saturday, May 12, 2018 at 10:00am          ',\n",
       " \"            Leardini's, 50 Whitetail Lane, Ulm, MT\",\n",
       " \"\\nFind all the information here.\\n\\nClinicians Perry and Courtney Frank from Standing on the Rock Boer Goats out of Missoula will answer all of your goat questions from feeding, marketing, fitting, showing, and other topics.\\xa0 4-H members are encrouaged to bring their goats, fitting stands, and clippers to the boot camp.\\xa0 If you just have a goat, that's ok!\\xa0 Bring your goat and yourself along.\\xa0 A goat lunch will be provided at noon.\\nThe fee is $5/per member.\\xa0 The fee is non-refundable and for lunch.\\xa0 PLease make checks payable to Cascade County 4-H Livestock Leaders.\\xa0\\n\\n\\n\\n\",\n",
       " ' \\r\\n                                \\r\\n                Jerrica Seilstad                406-454-6980\\njerrica.seilstad@montana.edu \\n',\n",
       " '\\n\\n\\n Google Calendar \\n iCal\\n\\n\\n\\n']"
      ]
     },
     "execution_count": 6,
     "metadata": {},
     "output_type": "execute_result"
    }
   ],
   "source": [
    "locationList"
   ]
  },
  {
   "cell_type": "code",
   "execution_count": 10,
   "metadata": {},
   "outputs": [],
   "source": [
    "r = re.compile('.*')"
   ]
  },
  {
   "cell_type": "code",
   "execution_count": 13,
   "metadata": {},
   "outputs": [
    {
     "data": {
      "text/plain": [
       "'Saturday, May 12, 2018 at 10:00am...'"
      ]
     },
     "execution_count": 13,
     "metadata": {},
     "output_type": "execute_result"
    }
   ],
   "source": [
    "locationList = list(filter(r.search, locationList))\n",
    "locationList[0].strip() + '...'"
   ]
  },
  {
   "cell_type": "code",
   "execution_count": null,
   "metadata": {},
   "outputs": [],
   "source": []
  }
 ],
 "metadata": {
  "kernelspec": {
   "display_name": "datanal",
   "language": "python",
   "name": "datanal"
  },
  "language_info": {
   "codemirror_mode": {
    "name": "ipython",
    "version": 3
   },
   "file_extension": ".py",
   "mimetype": "text/x-python",
   "name": "python",
   "nbconvert_exporter": "python",
   "pygments_lexer": "ipython3",
   "version": "3.6.5"
  }
 },
 "nbformat": 4,
 "nbformat_minor": 2
}

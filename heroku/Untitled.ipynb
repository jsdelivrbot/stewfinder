{
 "cells": [
  {
   "cell_type": "code",
   "execution_count": 1,
   "metadata": {},
   "outputs": [],
   "source": [
    "import time\n",
    "from datetime import datetime"
   ]
  },
  {
   "cell_type": "code",
   "execution_count": 2,
   "metadata": {},
   "outputs": [
    {
     "data": {
      "text/plain": [
       "'2018'"
      ]
     },
     "execution_count": 2,
     "metadata": {},
     "output_type": "execute_result"
    }
   ],
   "source": [
    "datetime.strftime(datetime.now(), \"%Y\")"
   ]
  },
  {
   "cell_type": "code",
   "execution_count": 3,
   "metadata": {},
   "outputs": [],
   "source": [
    "import time\n",
    "import requests\n",
    "import soopProcess\n",
    "import soopPull\n",
    "\n",
    "# this will change for sure\n",
    "ROOT_URL = \"http://127.0.0.1:8000\"\n",
    "\n",
    "# put this in env variable pls\n",
    "AUTH_STR = \"Token 4847d6ca5fb338bd0f35531c4609a0d1bf67b5a6\"\n",
    "\n",
    "\n",
    "\n",
    "msu = soopProcess.processor(\n",
    "    'http://calendar.msu.montana.edu/events/',\n",
    "    startNum=26500,\n",
    "    endNum=26505,\n",
    "    urlType='numbered',\n",
    ")\n",
    "today = datetime.today()\n",
    "todayFormatted = datetime.strftime(today, '%Y/%m/%d')\n",
    "eventDay = datetime.strftime(today, '%-m/%-d/%Y')\n",
    "\n",
    "bozeMag = soopProcess.processor(\n",
    "    baseUrl='http://bozemanmagazine.com/events/calendar/' + time.strftime('%Y/%m/%d'),\n",
    "    linkRegex='/' + time.strftime('%Y/%m/%d') + '.*',\n",
    "    urlType='crawled',\n",
    "    linkBase='http://bozemanmagazine.com/events',\n",
    "    day=eventDay\n",
    ")\n",
    "\n",
    "\n",
    "    #important_weight=100,\n",
    "    #num_sentences=2\n"
   ]
  },
  {
   "cell_type": "code",
   "execution_count": 4,
   "metadata": {},
   "outputs": [],
   "source": [
    "bozeMagData = bozeMag.process(\n",
    "    whenTag='p',\n",
    "    whenClass='date',\n",
    "    descTag='div',\n",
    "    descClass='description',\n",
    "    # locationTag='address',\n",
    "    # locationClass='location_text',\n",
    "    important_weight=100,\n",
    "    num_sentences=1)"
   ]
  },
  {
   "cell_type": "code",
   "execution_count": 5,
   "metadata": {},
   "outputs": [],
   "source": [
    "links = bozeMag.check_links()"
   ]
  },
  {
   "cell_type": "code",
   "execution_count": 6,
   "metadata": {},
   "outputs": [
    {
     "data": {
      "text/plain": [
       "'http://bozemanmagazine.com/events/2018/06/20/63716_gallatin_river_grill_out'"
      ]
     },
     "execution_count": 6,
     "metadata": {},
     "output_type": "execute_result"
    }
   ],
   "source": [
    "links[0]"
   ]
  },
  {
   "cell_type": "code",
   "execution_count": 9,
   "metadata": {},
   "outputs": [
    {
     "ename": "TypeError",
     "evalue": "expected string or bytes-like object",
     "output_type": "error",
     "traceback": [
      "\u001b[0;31m---------------------------------------------------------------------------\u001b[0m",
      "\u001b[0;31mTypeError\u001b[0m                                 Traceback (most recent call last)",
      "\u001b[0;32m<ipython-input-9-4d572cc805b9>\u001b[0m in \u001b[0;36m<module>\u001b[0;34m()\u001b[0m\n\u001b[1;32m     17\u001b[0m     \u001b[0;31m# locationClass='location_text',\u001b[0m\u001b[0;34m\u001b[0m\u001b[0;34m\u001b[0m\u001b[0m\n\u001b[1;32m     18\u001b[0m     \u001b[0mimportant_weight\u001b[0m\u001b[0;34m=\u001b[0m\u001b[0;36m100\u001b[0m\u001b[0;34m,\u001b[0m\u001b[0;34m\u001b[0m\u001b[0m\n\u001b[0;32m---> 19\u001b[0;31m     \u001b[0mnum_sentences\u001b[0m\u001b[0;34m=\u001b[0m\u001b[0;36m2\u001b[0m\u001b[0;34m\u001b[0m\u001b[0m\n\u001b[0m\u001b[1;32m     20\u001b[0m )\n",
      "\u001b[0;32m~/kod/react/stwfndr/heroku/soopProcess/main.py\u001b[0m in \u001b[0;36mprocess\u001b[0;34m(self, whenTag, descTag, locationTag, whenClass, descClass, locationClass, *args, **kwargs)\u001b[0m\n\u001b[1;32m    116\u001b[0m         summarizedDF = self.build_text_summarizer(\n\u001b[1;32m    117\u001b[0m             \u001b[0mfeaturedDF\u001b[0m\u001b[0;34m,\u001b[0m\u001b[0;34m\u001b[0m\u001b[0m\n\u001b[0;32m--> 118\u001b[0;31m             \u001b[0;34m*\u001b[0m\u001b[0margs\u001b[0m\u001b[0;34m,\u001b[0m\u001b[0;34m\u001b[0m\u001b[0m\n\u001b[0m\u001b[1;32m    119\u001b[0m             \u001b[0;34m**\u001b[0m\u001b[0mkwargs\u001b[0m\u001b[0;34m\u001b[0m\u001b[0m\n\u001b[1;32m    120\u001b[0m         )\n",
      "\u001b[0;32m~/kod/react/stwfndr/heroku/soopProcess/main.py\u001b[0m in \u001b[0;36mbuild_text_summarizer\u001b[0;34m(self, inputDF, *args, **kwargs)\u001b[0m\n\u001b[1;32m     80\u001b[0m         \u001b[0;31m# then build the summarizer\u001b[0m\u001b[0;34m\u001b[0m\u001b[0;34m\u001b[0m\u001b[0m\n\u001b[1;32m     81\u001b[0m         \u001b[0msummarizer\u001b[0m \u001b[0;34m=\u001b[0m \u001b[0mtextSummarizer\u001b[0m\u001b[0;34m(\u001b[0m\u001b[0minputDF\u001b[0m\u001b[0;34m,\u001b[0m \u001b[0;34m*\u001b[0m\u001b[0margs\u001b[0m\u001b[0;34m,\u001b[0m \u001b[0;34m**\u001b[0m\u001b[0mkwargs\u001b[0m\u001b[0;34m)\u001b[0m\u001b[0;34m\u001b[0m\u001b[0m\n\u001b[0;32m---> 82\u001b[0;31m         \u001b[0mprint\u001b[0m\u001b[0;34m(\u001b[0m\u001b[0minputDF\u001b[0m\u001b[0;34m)\u001b[0m\u001b[0;34m\u001b[0m\u001b[0m\n\u001b[0m\u001b[1;32m     83\u001b[0m         \u001b[0msummarizedDF\u001b[0m \u001b[0;34m=\u001b[0m \u001b[0msummarizer\u001b[0m\u001b[0;34m.\u001b[0m\u001b[0msummarize_df\u001b[0m\u001b[0;34m(\u001b[0m\u001b[0;34m)\u001b[0m\u001b[0;34m\u001b[0m\u001b[0m\n\u001b[1;32m     84\u001b[0m \u001b[0;34m\u001b[0m\u001b[0m\n",
      "\u001b[0;32m~/kod/react/stwfndr/heroku/soopProcess/summarizeText.py\u001b[0m in \u001b[0;36msummarize_df\u001b[0;34m(self)\u001b[0m\n\u001b[1;32m     34\u001b[0m     \u001b[0;32mdef\u001b[0m \u001b[0msummarize_df\u001b[0m\u001b[0;34m(\u001b[0m\u001b[0mself\u001b[0m\u001b[0;34m)\u001b[0m\u001b[0;34m:\u001b[0m\u001b[0;34m\u001b[0m\u001b[0m\n\u001b[1;32m     35\u001b[0m         \u001b[0mdf\u001b[0m \u001b[0;34m=\u001b[0m \u001b[0mself\u001b[0m\u001b[0;34m.\u001b[0m\u001b[0minputDF\u001b[0m\u001b[0;34m\u001b[0m\u001b[0m\n\u001b[0;32m---> 36\u001b[0;31m         \u001b[0msummary\u001b[0m \u001b[0;34m=\u001b[0m \u001b[0mdf\u001b[0m\u001b[0;34m.\u001b[0m\u001b[0mtext\u001b[0m\u001b[0;34m.\u001b[0m\u001b[0mapply\u001b[0m\u001b[0;34m(\u001b[0m\u001b[0;32mlambda\u001b[0m \u001b[0mx\u001b[0m\u001b[0;34m:\u001b[0m \u001b[0mself\u001b[0m\u001b[0;34m.\u001b[0m\u001b[0msummarize_row\u001b[0m\u001b[0;34m(\u001b[0m\u001b[0mx\u001b[0m\u001b[0;34m)\u001b[0m\u001b[0;34m)\u001b[0m\u001b[0;34m\u001b[0m\u001b[0m\n\u001b[0m\u001b[1;32m     37\u001b[0m         \u001b[0mdf\u001b[0m \u001b[0;34m=\u001b[0m \u001b[0mdf\u001b[0m\u001b[0;34m.\u001b[0m\u001b[0massign\u001b[0m\u001b[0;34m(\u001b[0m\u001b[0mdetails\u001b[0m\u001b[0;34m=\u001b[0m\u001b[0msummary\u001b[0m\u001b[0;34m)\u001b[0m\u001b[0;34m\u001b[0m\u001b[0m\n\u001b[1;32m     38\u001b[0m \u001b[0;34m\u001b[0m\u001b[0m\n",
      "\u001b[0;32m~/kod/react/stwfndr/.python/stwfndr/lib/python3.6/site-packages/pandas/core/series.py\u001b[0m in \u001b[0;36mapply\u001b[0;34m(self, func, convert_dtype, args, **kwds)\u001b[0m\n\u001b[1;32m   2549\u001b[0m             \u001b[0;32melse\u001b[0m\u001b[0;34m:\u001b[0m\u001b[0;34m\u001b[0m\u001b[0m\n\u001b[1;32m   2550\u001b[0m                 \u001b[0mvalues\u001b[0m \u001b[0;34m=\u001b[0m \u001b[0mself\u001b[0m\u001b[0;34m.\u001b[0m\u001b[0masobject\u001b[0m\u001b[0;34m\u001b[0m\u001b[0m\n\u001b[0;32m-> 2551\u001b[0;31m                 \u001b[0mmapped\u001b[0m \u001b[0;34m=\u001b[0m \u001b[0mlib\u001b[0m\u001b[0;34m.\u001b[0m\u001b[0mmap_infer\u001b[0m\u001b[0;34m(\u001b[0m\u001b[0mvalues\u001b[0m\u001b[0;34m,\u001b[0m \u001b[0mf\u001b[0m\u001b[0;34m,\u001b[0m \u001b[0mconvert\u001b[0m\u001b[0;34m=\u001b[0m\u001b[0mconvert_dtype\u001b[0m\u001b[0;34m)\u001b[0m\u001b[0;34m\u001b[0m\u001b[0m\n\u001b[0m\u001b[1;32m   2552\u001b[0m \u001b[0;34m\u001b[0m\u001b[0m\n\u001b[1;32m   2553\u001b[0m         \u001b[0;32mif\u001b[0m \u001b[0mlen\u001b[0m\u001b[0;34m(\u001b[0m\u001b[0mmapped\u001b[0m\u001b[0;34m)\u001b[0m \u001b[0;32mand\u001b[0m \u001b[0misinstance\u001b[0m\u001b[0;34m(\u001b[0m\u001b[0mmapped\u001b[0m\u001b[0;34m[\u001b[0m\u001b[0;36m0\u001b[0m\u001b[0;34m]\u001b[0m\u001b[0;34m,\u001b[0m \u001b[0mSeries\u001b[0m\u001b[0;34m)\u001b[0m\u001b[0;34m:\u001b[0m\u001b[0;34m\u001b[0m\u001b[0m\n",
      "\u001b[0;32mpandas/_libs/src/inference.pyx\u001b[0m in \u001b[0;36mpandas._libs.lib.map_infer\u001b[0;34m()\u001b[0m\n",
      "\u001b[0;32m~/kod/react/stwfndr/heroku/soopProcess/summarizeText.py\u001b[0m in \u001b[0;36m<lambda>\u001b[0;34m(x)\u001b[0m\n\u001b[1;32m     34\u001b[0m     \u001b[0;32mdef\u001b[0m \u001b[0msummarize_df\u001b[0m\u001b[0;34m(\u001b[0m\u001b[0mself\u001b[0m\u001b[0;34m)\u001b[0m\u001b[0;34m:\u001b[0m\u001b[0;34m\u001b[0m\u001b[0m\n\u001b[1;32m     35\u001b[0m         \u001b[0mdf\u001b[0m \u001b[0;34m=\u001b[0m \u001b[0mself\u001b[0m\u001b[0;34m.\u001b[0m\u001b[0minputDF\u001b[0m\u001b[0;34m\u001b[0m\u001b[0m\n\u001b[0;32m---> 36\u001b[0;31m         \u001b[0msummary\u001b[0m \u001b[0;34m=\u001b[0m \u001b[0mdf\u001b[0m\u001b[0;34m.\u001b[0m\u001b[0mtext\u001b[0m\u001b[0;34m.\u001b[0m\u001b[0mapply\u001b[0m\u001b[0;34m(\u001b[0m\u001b[0;32mlambda\u001b[0m \u001b[0mx\u001b[0m\u001b[0;34m:\u001b[0m \u001b[0mself\u001b[0m\u001b[0;34m.\u001b[0m\u001b[0msummarize_row\u001b[0m\u001b[0;34m(\u001b[0m\u001b[0mx\u001b[0m\u001b[0;34m)\u001b[0m\u001b[0;34m)\u001b[0m\u001b[0;34m\u001b[0m\u001b[0m\n\u001b[0m\u001b[1;32m     37\u001b[0m         \u001b[0mdf\u001b[0m \u001b[0;34m=\u001b[0m \u001b[0mdf\u001b[0m\u001b[0;34m.\u001b[0m\u001b[0massign\u001b[0m\u001b[0;34m(\u001b[0m\u001b[0mdetails\u001b[0m\u001b[0;34m=\u001b[0m\u001b[0msummary\u001b[0m\u001b[0;34m)\u001b[0m\u001b[0;34m\u001b[0m\u001b[0m\n\u001b[1;32m     38\u001b[0m \u001b[0;34m\u001b[0m\u001b[0m\n",
      "\u001b[0;32m~/kod/react/stwfndr/heroku/soopProcess/summarizeText.py\u001b[0m in \u001b[0;36msummarize_row\u001b[0;34m(self, text)\u001b[0m\n\u001b[1;32m     29\u001b[0m \u001b[0;34m\u001b[0m\u001b[0m\n\u001b[1;32m     30\u001b[0m     \u001b[0;32mdef\u001b[0m \u001b[0msummarize_row\u001b[0m\u001b[0;34m(\u001b[0m\u001b[0mself\u001b[0m\u001b[0;34m,\u001b[0m \u001b[0mtext\u001b[0m\u001b[0;34m)\u001b[0m\u001b[0;34m:\u001b[0m\u001b[0;34m\u001b[0m\u001b[0m\n\u001b[0;32m---> 31\u001b[0;31m         \u001b[0mwords\u001b[0m\u001b[0;34m,\u001b[0m \u001b[0msentences\u001b[0m \u001b[0;34m=\u001b[0m \u001b[0mself\u001b[0m\u001b[0;34m.\u001b[0m\u001b[0mtextSum\u001b[0m\u001b[0;34m.\u001b[0m\u001b[0msummarize\u001b[0m\u001b[0;34m(\u001b[0m\u001b[0;34m[\u001b[0m\u001b[0mtext\u001b[0m\u001b[0;34m]\u001b[0m\u001b[0;34m)\u001b[0m\u001b[0;34m\u001b[0m\u001b[0m\n\u001b[0m\u001b[1;32m     32\u001b[0m         \u001b[0;32mreturn\u001b[0m \u001b[0;34m' '\u001b[0m\u001b[0;34m.\u001b[0m\u001b[0mjoin\u001b[0m\u001b[0;34m(\u001b[0m\u001b[0msentences\u001b[0m\u001b[0;34m.\u001b[0m\u001b[0msentences\u001b[0m\u001b[0;34m)\u001b[0m\u001b[0;34m\u001b[0m\u001b[0m\n\u001b[1;32m     33\u001b[0m \u001b[0;34m\u001b[0m\u001b[0m\n",
      "\u001b[0;32m~/kod/react/stwfndr/heroku/sumyrizer/summarizer.py\u001b[0m in \u001b[0;36msummarize\u001b[0;34m(self, text, *args, **tfidfargs)\u001b[0m\n\u001b[1;32m    681\u001b[0m         '''\n\u001b[1;32m    682\u001b[0m \u001b[0;34m\u001b[0m\u001b[0m\n\u001b[0;32m--> 683\u001b[0;31m         \u001b[0mword_summary\u001b[0m \u001b[0;34m=\u001b[0m \u001b[0mself\u001b[0m\u001b[0;34m.\u001b[0m\u001b[0msummarize_words\u001b[0m\u001b[0;34m(\u001b[0m\u001b[0mtext\u001b[0m\u001b[0;34m)\u001b[0m\u001b[0;34m\u001b[0m\u001b[0m\n\u001b[0m\u001b[1;32m    684\u001b[0m         \u001b[0msentence_summary\u001b[0m \u001b[0;34m=\u001b[0m \u001b[0mself\u001b[0m\u001b[0;34m.\u001b[0m\u001b[0msummarize_sentences\u001b[0m\u001b[0;34m(\u001b[0m\u001b[0mtext\u001b[0m\u001b[0;34m)\u001b[0m\u001b[0;34m\u001b[0m\u001b[0m\n\u001b[1;32m    685\u001b[0m \u001b[0;34m\u001b[0m\u001b[0m\n",
      "\u001b[0;32m~/kod/react/stwfndr/heroku/sumyrizer/summarizer.py\u001b[0m in \u001b[0;36msummarize_words\u001b[0;34m(self, text, *args, **tfidfargs)\u001b[0m\n\u001b[1;32m    602\u001b[0m         \u001b[0mpresenting\u001b[0m \u001b[0mit\u001b[0m\u001b[0;34m\u001b[0m\u001b[0m\n\u001b[1;32m    603\u001b[0m         '''\n\u001b[0;32m--> 604\u001b[0;31m         \u001b[0mwords_df\u001b[0m \u001b[0;34m=\u001b[0m \u001b[0mself\u001b[0m\u001b[0;34m.\u001b[0m\u001b[0mfilter_data\u001b[0m\u001b[0;34m(\u001b[0m\u001b[0mtext\u001b[0m\u001b[0;34m,\u001b[0m \u001b[0;34m*\u001b[0m\u001b[0margs\u001b[0m\u001b[0;34m,\u001b[0m \u001b[0;34m**\u001b[0m\u001b[0mtfidfargs\u001b[0m\u001b[0;34m)\u001b[0m\u001b[0;34m\u001b[0m\u001b[0m\n\u001b[0m\u001b[1;32m    605\u001b[0m         \u001b[0mresults_df\u001b[0m \u001b[0;34m=\u001b[0m \u001b[0mpd\u001b[0m\u001b[0;34m.\u001b[0m\u001b[0mDataFrame\u001b[0m\u001b[0;34m(\u001b[0m\u001b[0;34m)\u001b[0m\u001b[0;34m\u001b[0m\u001b[0m\n\u001b[1;32m    606\u001b[0m \u001b[0;34m\u001b[0m\u001b[0m\n",
      "\u001b[0;32m~/kod/react/stwfndr/heroku/sumyrizer/summarizer.py\u001b[0m in \u001b[0;36mfilter_data\u001b[0;34m(self, text, *args, **tfidfargs)\u001b[0m\n\u001b[1;32m    583\u001b[0m \u001b[0;34m\u001b[0m\u001b[0m\n\u001b[1;32m    584\u001b[0m         \u001b[0;31m# filter out unimportant words\u001b[0m\u001b[0;34m\u001b[0m\u001b[0;34m\u001b[0m\u001b[0m\n\u001b[0;32m--> 585\u001b[0;31m         \u001b[0mwords_df\u001b[0m \u001b[0;34m=\u001b[0m \u001b[0mself\u001b[0m\u001b[0;34m.\u001b[0m\u001b[0mcombine_weights\u001b[0m\u001b[0;34m(\u001b[0m\u001b[0mtext\u001b[0m\u001b[0;34m,\u001b[0m \u001b[0;34m*\u001b[0m\u001b[0margs\u001b[0m\u001b[0;34m,\u001b[0m \u001b[0;34m**\u001b[0m\u001b[0mtfidfargs\u001b[0m\u001b[0;34m)\u001b[0m\u001b[0;34m\u001b[0m\u001b[0m\n\u001b[0m\u001b[1;32m    586\u001b[0m \u001b[0;34m\u001b[0m\u001b[0m\n\u001b[1;32m    587\u001b[0m         \u001b[0;31m# use full meeting normalized weight to clip\u001b[0m\u001b[0;34m\u001b[0m\u001b[0;34m\u001b[0m\u001b[0m\n",
      "\u001b[0;32m~/kod/react/stwfndr/heroku/sumyrizer/summarizer.py\u001b[0m in \u001b[0;36mcombine_weights\u001b[0;34m(self, text, *args, **tfidfargs)\u001b[0m\n\u001b[1;32m    550\u001b[0m         '''\n\u001b[1;32m    551\u001b[0m \u001b[0;34m\u001b[0m\u001b[0m\n\u001b[0;32m--> 552\u001b[0;31m         \u001b[0mwords_df\u001b[0m \u001b[0;34m=\u001b[0m \u001b[0mself\u001b[0m\u001b[0;34m.\u001b[0m\u001b[0mweight_important_words\u001b[0m\u001b[0;34m(\u001b[0m\u001b[0mtext\u001b[0m\u001b[0;34m,\u001b[0m \u001b[0;34m*\u001b[0m\u001b[0margs\u001b[0m\u001b[0;34m,\u001b[0m \u001b[0;34m**\u001b[0m\u001b[0mtfidfargs\u001b[0m\u001b[0;34m)\u001b[0m\u001b[0;34m\u001b[0m\u001b[0m\n\u001b[0m\u001b[1;32m    553\u001b[0m \u001b[0;34m\u001b[0m\u001b[0m\n\u001b[1;32m    554\u001b[0m         words_df['sum'] = words_df.drop(\n",
      "\u001b[0;32m~/kod/react/stwfndr/heroku/sumyrizer/summarizer.py\u001b[0m in \u001b[0;36mweight_important_words\u001b[0;34m(self, text, *args, **tfidfargs)\u001b[0m\n\u001b[1;32m    523\u001b[0m \u001b[0;34m\u001b[0m\u001b[0m\n\u001b[1;32m    524\u001b[0m         \u001b[0;31m# build weights (longer words weighted more)\u001b[0m\u001b[0;34m\u001b[0m\u001b[0;34m\u001b[0m\u001b[0m\n\u001b[0;32m--> 525\u001b[0;31m         \u001b[0mwords_df\u001b[0m \u001b[0;34m=\u001b[0m \u001b[0mself\u001b[0m\u001b[0;34m.\u001b[0m\u001b[0mweight_word_length\u001b[0m\u001b[0;34m(\u001b[0m\u001b[0mtext\u001b[0m\u001b[0;34m,\u001b[0m \u001b[0;34m*\u001b[0m\u001b[0margs\u001b[0m\u001b[0;34m,\u001b[0m \u001b[0;34m**\u001b[0m\u001b[0mtfidfargs\u001b[0m\u001b[0;34m)\u001b[0m\u001b[0;34m\u001b[0m\u001b[0m\n\u001b[0m\u001b[1;32m    526\u001b[0m \u001b[0;34m\u001b[0m\u001b[0m\n\u001b[1;32m    527\u001b[0m         weights = pd.Series(\n",
      "\u001b[0;32m~/kod/react/stwfndr/heroku/sumyrizer/summarizer.py\u001b[0m in \u001b[0;36mweight_word_length\u001b[0;34m(self, text, *args, **tfidfargs)\u001b[0m\n\u001b[1;32m    492\u001b[0m \u001b[0;34m\u001b[0m\u001b[0m\n\u001b[1;32m    493\u001b[0m         \u001b[0;31m# build weights (longer words weighted more)\u001b[0m\u001b[0;34m\u001b[0m\u001b[0;34m\u001b[0m\u001b[0m\n\u001b[0;32m--> 494\u001b[0;31m         \u001b[0mwords_df\u001b[0m \u001b[0;34m=\u001b[0m \u001b[0mself\u001b[0m\u001b[0;34m.\u001b[0m\u001b[0mweight_page_position\u001b[0m\u001b[0;34m(\u001b[0m\u001b[0mtext\u001b[0m\u001b[0;34m,\u001b[0m \u001b[0;34m*\u001b[0m\u001b[0margs\u001b[0m\u001b[0;34m,\u001b[0m \u001b[0;34m**\u001b[0m\u001b[0mtfidfargs\u001b[0m\u001b[0;34m)\u001b[0m\u001b[0;34m\u001b[0m\u001b[0m\n\u001b[0m\u001b[1;32m    495\u001b[0m \u001b[0;34m\u001b[0m\u001b[0m\n\u001b[1;32m    496\u001b[0m         weights = pd.Series(\n",
      "\u001b[0;32m~/kod/react/stwfndr/heroku/sumyrizer/summarizer.py\u001b[0m in \u001b[0;36mweight_page_position\u001b[0;34m(self, text, *args, **tfidfargs)\u001b[0m\n\u001b[1;32m    446\u001b[0m \u001b[0;34m\u001b[0m\u001b[0m\n\u001b[1;32m    447\u001b[0m         \u001b[0;31m# build sentences and words\u001b[0m\u001b[0;34m\u001b[0m\u001b[0;34m\u001b[0m\u001b[0m\n\u001b[0;32m--> 448\u001b[0;31m         \u001b[0mwords_df\u001b[0m \u001b[0;34m=\u001b[0m \u001b[0mself\u001b[0m\u001b[0;34m.\u001b[0m\u001b[0mweight_capitals\u001b[0m\u001b[0;34m(\u001b[0m\u001b[0mtext\u001b[0m\u001b[0;34m,\u001b[0m \u001b[0;34m*\u001b[0m\u001b[0margs\u001b[0m\u001b[0;34m,\u001b[0m \u001b[0;34m**\u001b[0m\u001b[0mtfidfargs\u001b[0m\u001b[0;34m)\u001b[0m\u001b[0;34m\u001b[0m\u001b[0m\n\u001b[0m\u001b[1;32m    449\u001b[0m         \u001b[0msentences_df\u001b[0m \u001b[0;34m=\u001b[0m \u001b[0mself\u001b[0m\u001b[0;34m.\u001b[0m\u001b[0mbuild_sentences\u001b[0m\u001b[0;34m(\u001b[0m\u001b[0mtext\u001b[0m\u001b[0;34m)\u001b[0m\u001b[0;34m\u001b[0m\u001b[0m\n\u001b[1;32m    450\u001b[0m \u001b[0;34m\u001b[0m\u001b[0m\n",
      "\u001b[0;32m~/kod/react/stwfndr/heroku/sumyrizer/summarizer.py\u001b[0m in \u001b[0;36mweight_capitals\u001b[0;34m(self, text, *args, **tfidfargs)\u001b[0m\n\u001b[1;32m    410\u001b[0m \u001b[0;34m\u001b[0m\u001b[0m\n\u001b[1;32m    411\u001b[0m         \u001b[0;31m# build the words\u001b[0m\u001b[0;34m\u001b[0m\u001b[0;34m\u001b[0m\u001b[0m\n\u001b[0;32m--> 412\u001b[0;31m         \u001b[0mwords_df\u001b[0m \u001b[0;34m=\u001b[0m \u001b[0mself\u001b[0m\u001b[0;34m.\u001b[0m\u001b[0mbuild_words\u001b[0m\u001b[0;34m(\u001b[0m\u001b[0mtext\u001b[0m\u001b[0;34m,\u001b[0m \u001b[0;34m*\u001b[0m\u001b[0margs\u001b[0m\u001b[0;34m,\u001b[0m \u001b[0;34m**\u001b[0m\u001b[0mtfidfargs\u001b[0m\u001b[0;34m)\u001b[0m\u001b[0;34m\u001b[0m\u001b[0m\n\u001b[0m\u001b[1;32m    413\u001b[0m \u001b[0;34m\u001b[0m\u001b[0m\n\u001b[1;32m    414\u001b[0m         \u001b[0;31m# build the weights\u001b[0m\u001b[0;34m\u001b[0m\u001b[0;34m\u001b[0m\u001b[0m\n",
      "\u001b[0;32m~/kod/react/stwfndr/heroku/sumyrizer/summarizer.py\u001b[0m in \u001b[0;36mbuild_words\u001b[0;34m(self, text, *args, **tfidfargs)\u001b[0m\n\u001b[1;32m    331\u001b[0m                              *args, **tfidfargs)\n\u001b[1;32m    332\u001b[0m \u001b[0;34m\u001b[0m\u001b[0m\n\u001b[0;32m--> 333\u001b[0;31m         \u001b[0mX\u001b[0m \u001b[0;34m=\u001b[0m \u001b[0mvec\u001b[0m\u001b[0;34m.\u001b[0m\u001b[0mfit_transform\u001b[0m\u001b[0;34m(\u001b[0m\u001b[0mtext\u001b[0m\u001b[0;34m)\u001b[0m\u001b[0;34m\u001b[0m\u001b[0m\n\u001b[0m\u001b[1;32m    334\u001b[0m \u001b[0;34m\u001b[0m\u001b[0m\n\u001b[1;32m    335\u001b[0m         \u001b[0;31m# put them in a DF\u001b[0m\u001b[0;34m\u001b[0m\u001b[0;34m\u001b[0m\u001b[0m\n",
      "\u001b[0;32m~/kod/react/stwfndr/.python/stwfndr/lib/python3.6/site-packages/sklearn/feature_extraction/text.py\u001b[0m in \u001b[0;36mfit_transform\u001b[0;34m(self, raw_documents, y)\u001b[0m\n\u001b[1;32m   1379\u001b[0m             \u001b[0mTf\u001b[0m\u001b[0;34m-\u001b[0m\u001b[0midf\u001b[0m\u001b[0;34m-\u001b[0m\u001b[0mweighted\u001b[0m \u001b[0mdocument\u001b[0m\u001b[0;34m-\u001b[0m\u001b[0mterm\u001b[0m \u001b[0mmatrix\u001b[0m\u001b[0;34m.\u001b[0m\u001b[0;34m\u001b[0m\u001b[0m\n\u001b[1;32m   1380\u001b[0m         \"\"\"\n\u001b[0;32m-> 1381\u001b[0;31m         \u001b[0mX\u001b[0m \u001b[0;34m=\u001b[0m \u001b[0msuper\u001b[0m\u001b[0;34m(\u001b[0m\u001b[0mTfidfVectorizer\u001b[0m\u001b[0;34m,\u001b[0m \u001b[0mself\u001b[0m\u001b[0;34m)\u001b[0m\u001b[0;34m.\u001b[0m\u001b[0mfit_transform\u001b[0m\u001b[0;34m(\u001b[0m\u001b[0mraw_documents\u001b[0m\u001b[0;34m)\u001b[0m\u001b[0;34m\u001b[0m\u001b[0m\n\u001b[0m\u001b[1;32m   1382\u001b[0m         \u001b[0mself\u001b[0m\u001b[0;34m.\u001b[0m\u001b[0m_tfidf\u001b[0m\u001b[0;34m.\u001b[0m\u001b[0mfit\u001b[0m\u001b[0;34m(\u001b[0m\u001b[0mX\u001b[0m\u001b[0;34m)\u001b[0m\u001b[0;34m\u001b[0m\u001b[0m\n\u001b[1;32m   1383\u001b[0m         \u001b[0;31m# X is already a transformed view of raw_documents so\u001b[0m\u001b[0;34m\u001b[0m\u001b[0;34m\u001b[0m\u001b[0m\n",
      "\u001b[0;32m~/kod/react/stwfndr/.python/stwfndr/lib/python3.6/site-packages/sklearn/feature_extraction/text.py\u001b[0m in \u001b[0;36mfit_transform\u001b[0;34m(self, raw_documents, y)\u001b[0m\n\u001b[1;32m    867\u001b[0m \u001b[0;34m\u001b[0m\u001b[0m\n\u001b[1;32m    868\u001b[0m         vocabulary, X = self._count_vocab(raw_documents,\n\u001b[0;32m--> 869\u001b[0;31m                                           self.fixed_vocabulary_)\n\u001b[0m\u001b[1;32m    870\u001b[0m \u001b[0;34m\u001b[0m\u001b[0m\n\u001b[1;32m    871\u001b[0m         \u001b[0;32mif\u001b[0m \u001b[0mself\u001b[0m\u001b[0;34m.\u001b[0m\u001b[0mbinary\u001b[0m\u001b[0;34m:\u001b[0m\u001b[0;34m\u001b[0m\u001b[0m\n",
      "\u001b[0;32m~/kod/react/stwfndr/.python/stwfndr/lib/python3.6/site-packages/sklearn/feature_extraction/text.py\u001b[0m in \u001b[0;36m_count_vocab\u001b[0;34m(self, raw_documents, fixed_vocab)\u001b[0m\n\u001b[1;32m    790\u001b[0m         \u001b[0;32mfor\u001b[0m \u001b[0mdoc\u001b[0m \u001b[0;32min\u001b[0m \u001b[0mraw_documents\u001b[0m\u001b[0;34m:\u001b[0m\u001b[0;34m\u001b[0m\u001b[0m\n\u001b[1;32m    791\u001b[0m             \u001b[0mfeature_counter\u001b[0m \u001b[0;34m=\u001b[0m \u001b[0;34m{\u001b[0m\u001b[0;34m}\u001b[0m\u001b[0;34m\u001b[0m\u001b[0m\n\u001b[0;32m--> 792\u001b[0;31m             \u001b[0;32mfor\u001b[0m \u001b[0mfeature\u001b[0m \u001b[0;32min\u001b[0m \u001b[0manalyze\u001b[0m\u001b[0;34m(\u001b[0m\u001b[0mdoc\u001b[0m\u001b[0;34m)\u001b[0m\u001b[0;34m:\u001b[0m\u001b[0;34m\u001b[0m\u001b[0m\n\u001b[0m\u001b[1;32m    793\u001b[0m                 \u001b[0;32mtry\u001b[0m\u001b[0;34m:\u001b[0m\u001b[0;34m\u001b[0m\u001b[0m\n\u001b[1;32m    794\u001b[0m                     \u001b[0mfeature_idx\u001b[0m \u001b[0;34m=\u001b[0m \u001b[0mvocabulary\u001b[0m\u001b[0;34m[\u001b[0m\u001b[0mfeature\u001b[0m\u001b[0;34m]\u001b[0m\u001b[0;34m\u001b[0m\u001b[0m\n",
      "\u001b[0;32m~/kod/react/stwfndr/.python/stwfndr/lib/python3.6/site-packages/sklearn/feature_extraction/text.py\u001b[0m in \u001b[0;36m<lambda>\u001b[0;34m(doc)\u001b[0m\n\u001b[1;32m    264\u001b[0m \u001b[0;34m\u001b[0m\u001b[0m\n\u001b[1;32m    265\u001b[0m             return lambda doc: self._word_ngrams(\n\u001b[0;32m--> 266\u001b[0;31m                 tokenize(preprocess(self.decode(doc))), stop_words)\n\u001b[0m\u001b[1;32m    267\u001b[0m \u001b[0;34m\u001b[0m\u001b[0m\n\u001b[1;32m    268\u001b[0m         \u001b[0;32melse\u001b[0m\u001b[0;34m:\u001b[0m\u001b[0;34m\u001b[0m\u001b[0m\n",
      "\u001b[0;32m~/kod/react/stwfndr/.python/stwfndr/lib/python3.6/site-packages/sklearn/feature_extraction/text.py\u001b[0m in \u001b[0;36m<lambda>\u001b[0;34m(doc)\u001b[0m\n\u001b[1;32m    239\u001b[0m             \u001b[0;32mreturn\u001b[0m \u001b[0mself\u001b[0m\u001b[0;34m.\u001b[0m\u001b[0mtokenizer\u001b[0m\u001b[0;34m\u001b[0m\u001b[0m\n\u001b[1;32m    240\u001b[0m         \u001b[0mtoken_pattern\u001b[0m \u001b[0;34m=\u001b[0m \u001b[0mre\u001b[0m\u001b[0;34m.\u001b[0m\u001b[0mcompile\u001b[0m\u001b[0;34m(\u001b[0m\u001b[0mself\u001b[0m\u001b[0;34m.\u001b[0m\u001b[0mtoken_pattern\u001b[0m\u001b[0;34m)\u001b[0m\u001b[0;34m\u001b[0m\u001b[0m\n\u001b[0;32m--> 241\u001b[0;31m         \u001b[0;32mreturn\u001b[0m \u001b[0;32mlambda\u001b[0m \u001b[0mdoc\u001b[0m\u001b[0;34m:\u001b[0m \u001b[0mtoken_pattern\u001b[0m\u001b[0;34m.\u001b[0m\u001b[0mfindall\u001b[0m\u001b[0;34m(\u001b[0m\u001b[0mdoc\u001b[0m\u001b[0;34m)\u001b[0m\u001b[0;34m\u001b[0m\u001b[0m\n\u001b[0m\u001b[1;32m    242\u001b[0m \u001b[0;34m\u001b[0m\u001b[0m\n\u001b[1;32m    243\u001b[0m     \u001b[0;32mdef\u001b[0m \u001b[0mget_stop_words\u001b[0m\u001b[0;34m(\u001b[0m\u001b[0mself\u001b[0m\u001b[0;34m)\u001b[0m\u001b[0;34m:\u001b[0m\u001b[0;34m\u001b[0m\u001b[0m\n",
      "\u001b[0;31mTypeError\u001b[0m: expected string or bytes-like object"
     ]
    }
   ],
   "source": [
    "msuData = msu.process(\n",
    "    whenTag='dd',\n",
    "    locationTag='dd',\n",
    "    #locationRegex='^(?!.*(Monday|Tuesday|Wednesday|Thursday|Friday|Saturday|Sunday))',\n",
    "    descTag='main',\n",
    "    descClass='col-sm-8',\n",
    "    important_weight=100,\n",
    "    num_sentences=2\n",
    ")\n",
    "\n",
    "bozeMagData = bozeMag.process(\n",
    "    whenTag='p',\n",
    "    whenClass='date',\n",
    "    descTag='div',\n",
    "    descClass='description',\n",
    "    # locationTag='address',\n",
    "    # locationClass='location_text',\n",
    "    important_weight=100,\n",
    "    num_sentences=2\n",
    ")\n"
   ]
  },
  {
   "cell_type": "code",
   "execution_count": 5,
   "metadata": {},
   "outputs": [
    {
     "data": {
      "text/html": [
       "<div>\n",
       "<style scoped>\n",
       "    .dataframe tbody tr th:only-of-type {\n",
       "        vertical-align: middle;\n",
       "    }\n",
       "\n",
       "    .dataframe tbody tr th {\n",
       "        vertical-align: top;\n",
       "    }\n",
       "\n",
       "    .dataframe thead th {\n",
       "        text-align: right;\n",
       "    }\n",
       "</style>\n",
       "<table border=\"1\" class=\"dataframe\">\n",
       "  <thead>\n",
       "    <tr style=\"text-align: right;\">\n",
       "      <th></th>\n",
       "      <th>lxml</th>\n",
       "      <th>outUrl</th>\n",
       "      <th>text</th>\n",
       "      <th>food</th>\n",
       "      <th>title</th>\n",
       "      <th>day</th>\n",
       "      <th>when</th>\n",
       "      <th>location</th>\n",
       "      <th>details</th>\n",
       "    </tr>\n",
       "  </thead>\n",
       "  <tbody>\n",
       "    <tr>\n",
       "      <th>3</th>\n",
       "      <td>&lt;!DOCTYPE html&gt;\n",
       "&lt;!--[if lt IE 7]&gt; &lt;html class=...</td>\n",
       "      <td>http://bozemanmagazine.com/events/2018/06/20/3...</td>\n",
       "      <td>Read, talk, sing and play with your baby throu...</td>\n",
       "      <td>[free]</td>\n",
       "      <td>Sensational Babies - Museum of the Rockies</td>\n",
       "      <td>6/20/2018</td>\n",
       "      <td>Every Wednesday, 10-11am;...</td>\n",
       "      <td>None</td>\n",
       "      <td>Read, talk, sing and play with your baby throu...</td>\n",
       "    </tr>\n",
       "    <tr>\n",
       "      <th>4</th>\n",
       "      <td>&lt;!DOCTYPE html&gt;\n",
       "&lt;!--[if lt IE 7]&gt; &lt;html class=...</td>\n",
       "      <td>http://bozemanmagazine.com/events/2018/06/20/2...</td>\n",
       "      <td>Story Mansion traditional acoustic string stri...</td>\n",
       "      <td>[free]</td>\n",
       "      <td>Pickin' in the Parks - The Story Mansion</td>\n",
       "      <td>6/20/2018</td>\n",
       "      <td>Every Wednesday until Jun. 27, 6:30-9pm;...</td>\n",
       "      <td>None</td>\n",
       "      <td>Pickin in the Park is a free community event s...</td>\n",
       "    </tr>\n",
       "    <tr>\n",
       "      <th>7</th>\n",
       "      <td>&lt;!DOCTYPE html&gt;\n",
       "&lt;!--[if lt IE 7]&gt; &lt;html class=...</td>\n",
       "      <td>http://bozemanmagazine.com/events/2018/06/20/6...</td>\n",
       "      <td>Come join Hope &amp; The Holidays for BINGO. 10 ga...</td>\n",
       "      <td>[dinner]</td>\n",
       "      <td>BINGO for Hope &amp; The Holidays - American Legio...</td>\n",
       "      <td>6/20/2018</td>\n",
       "      <td>Wed. Jun. 20 7-9pm...</td>\n",
       "      <td>None</td>\n",
       "      <td>Tomaso's on Main, serving inside the American ...</td>\n",
       "    </tr>\n",
       "    <tr>\n",
       "      <th>9</th>\n",
       "      <td>&lt;!DOCTYPE html&gt;\n",
       "&lt;!--[if lt IE 7]&gt; &lt;html class=...</td>\n",
       "      <td>http://bozemanmagazine.com/events/2018/06/20/5...</td>\n",
       "      <td>WSE's Livingston Farmers Market kicks off on W...</td>\n",
       "      <td>[dinner]</td>\n",
       "      <td>WSE's Livingston Farmers Market - Sacajawea Pa...</td>\n",
       "      <td>6/20/2018</td>\n",
       "      <td>Every Wednesday until Sep. 19, 4:30-7:30pm;...</td>\n",
       "      <td>None</td>\n",
       "      <td>It's a great place to come for dinner and soci...</td>\n",
       "    </tr>\n",
       "    <tr>\n",
       "      <th>10</th>\n",
       "      <td>&lt;!DOCTYPE html&gt;\n",
       "&lt;!--[if lt IE 7]&gt; &lt;html class=...</td>\n",
       "      <td>http://bozemanmagazine.com/events/2018/06/20/6...</td>\n",
       "      <td>Bring your kids along to have fun in the summe...</td>\n",
       "      <td>[free, lunch]</td>\n",
       "      <td>Thrive's Summer Fun in the Park - Bogert Park</td>\n",
       "      <td>6/20/2018</td>\n",
       "      <td>Wed. Jun. 20 11am-12:30pm...</td>\n",
       "      <td>None</td>\n",
       "      <td>Enjoy a free lunch and meet other local parent...</td>\n",
       "    </tr>\n",
       "    <tr>\n",
       "      <th>11</th>\n",
       "      <td>&lt;!DOCTYPE html&gt;\n",
       "&lt;!--[if lt IE 7]&gt; &lt;html class=...</td>\n",
       "      <td>http://bozemanmagazine.com/events/2018/06/20/6...</td>\n",
       "      <td>Dynamite Dads is a free, monthly event series ...</td>\n",
       "      <td>[free, dinner]</td>\n",
       "      <td>Dynamite Dads: Fun Zone! - Bozeman Fun Zone</td>\n",
       "      <td>6/20/2018</td>\n",
       "      <td>Wed. Jun. 20 6-7:30pm...</td>\n",
       "      <td>None</td>\n",
       "      <td>Dynamite Dads is a free, monthly event series ...</td>\n",
       "    </tr>\n",
       "    <tr>\n",
       "      <th>18</th>\n",
       "      <td>&lt;!DOCTYPE html&gt;\n",
       "&lt;!--[if lt IE 7]&gt; &lt;html class=...</td>\n",
       "      <td>http://bozemanmagazine.com/events/2018/06/20/6...</td>\n",
       "      <td>Summer is here at the GRL! We will be hosting ...</td>\n",
       "      <td>[free, bbq, dinner]</td>\n",
       "      <td>Gallatin River Grill-Out! - Gallatin River Lodge</td>\n",
       "      <td>6/20/2018</td>\n",
       "      <td>Every Wednesday from Jun. 20 to Sep. 5, 6-8pm;...</td>\n",
       "      <td>None</td>\n",
       "      <td>Time: 6pm-8pm Location: Gallatin River Lodge P...</td>\n",
       "    </tr>\n",
       "    <tr>\n",
       "      <th>19</th>\n",
       "      <td>&lt;!DOCTYPE html&gt;\n",
       "&lt;!--[if lt IE 7]&gt; &lt;html class=...</td>\n",
       "      <td>http://bozemanmagazine.com/events/2018/06/20/6...</td>\n",
       "      <td>We will study Buddha's teachings on the four l...</td>\n",
       "      <td>[free]</td>\n",
       "      <td>Limitless Expressions of the Heart - Bozeman D...</td>\n",
       "      <td>6/20/2018</td>\n",
       "      <td>Every Wednesday until Jun. 20, 7-8:45pm;...</td>\n",
       "      <td>None</td>\n",
       "      <td>We will study Buddha's teachings on the four l...</td>\n",
       "    </tr>\n",
       "    <tr>\n",
       "      <th>20</th>\n",
       "      <td>&lt;!DOCTYPE html&gt;\n",
       "&lt;!--[if lt IE 7]&gt; &lt;html class=...</td>\n",
       "      <td>http://bozemanmagazine.com/events/2018/06/20/5...</td>\n",
       "      <td>Liberty Toastmasters, the only evening Toastma...</td>\n",
       "      <td>[free]</td>\n",
       "      <td>Liberty Toastmasters</td>\n",
       "      <td>6/20/2018</td>\n",
       "      <td>First, Third Wednesday until Jun. 20, 6-7:30pm...</td>\n",
       "      <td>None</td>\n",
       "      <td>Join us for fun, fellowship and free speech.</td>\n",
       "    </tr>\n",
       "  </tbody>\n",
       "</table>\n",
       "</div>"
      ],
      "text/plain": [
       "                                                 lxml  \\\n",
       "3   <!DOCTYPE html>\n",
       "<!--[if lt IE 7]> <html class=...   \n",
       "4   <!DOCTYPE html>\n",
       "<!--[if lt IE 7]> <html class=...   \n",
       "7   <!DOCTYPE html>\n",
       "<!--[if lt IE 7]> <html class=...   \n",
       "9   <!DOCTYPE html>\n",
       "<!--[if lt IE 7]> <html class=...   \n",
       "10  <!DOCTYPE html>\n",
       "<!--[if lt IE 7]> <html class=...   \n",
       "11  <!DOCTYPE html>\n",
       "<!--[if lt IE 7]> <html class=...   \n",
       "18  <!DOCTYPE html>\n",
       "<!--[if lt IE 7]> <html class=...   \n",
       "19  <!DOCTYPE html>\n",
       "<!--[if lt IE 7]> <html class=...   \n",
       "20  <!DOCTYPE html>\n",
       "<!--[if lt IE 7]> <html class=...   \n",
       "\n",
       "                                               outUrl  \\\n",
       "3   http://bozemanmagazine.com/events/2018/06/20/3...   \n",
       "4   http://bozemanmagazine.com/events/2018/06/20/2...   \n",
       "7   http://bozemanmagazine.com/events/2018/06/20/6...   \n",
       "9   http://bozemanmagazine.com/events/2018/06/20/5...   \n",
       "10  http://bozemanmagazine.com/events/2018/06/20/6...   \n",
       "11  http://bozemanmagazine.com/events/2018/06/20/6...   \n",
       "18  http://bozemanmagazine.com/events/2018/06/20/6...   \n",
       "19  http://bozemanmagazine.com/events/2018/06/20/6...   \n",
       "20  http://bozemanmagazine.com/events/2018/06/20/5...   \n",
       "\n",
       "                                                 text                 food  \\\n",
       "3   Read, talk, sing and play with your baby throu...               [free]   \n",
       "4   Story Mansion traditional acoustic string stri...               [free]   \n",
       "7   Come join Hope & The Holidays for BINGO. 10 ga...             [dinner]   \n",
       "9   WSE's Livingston Farmers Market kicks off on W...             [dinner]   \n",
       "10  Bring your kids along to have fun in the summe...        [free, lunch]   \n",
       "11  Dynamite Dads is a free, monthly event series ...       [free, dinner]   \n",
       "18  Summer is here at the GRL! We will be hosting ...  [free, bbq, dinner]   \n",
       "19  We will study Buddha's teachings on the four l...               [free]   \n",
       "20  Liberty Toastmasters, the only evening Toastma...               [free]   \n",
       "\n",
       "                                                title        day  \\\n",
       "3          Sensational Babies - Museum of the Rockies  6/20/2018   \n",
       "4            Pickin' in the Parks - The Story Mansion  6/20/2018   \n",
       "7   BINGO for Hope & The Holidays - American Legio...  6/20/2018   \n",
       "9   WSE's Livingston Farmers Market - Sacajawea Pa...  6/20/2018   \n",
       "10      Thrive's Summer Fun in the Park - Bogert Park  6/20/2018   \n",
       "11        Dynamite Dads: Fun Zone! - Bozeman Fun Zone  6/20/2018   \n",
       "18   Gallatin River Grill-Out! - Gallatin River Lodge  6/20/2018   \n",
       "19  Limitless Expressions of the Heart - Bozeman D...  6/20/2018   \n",
       "20                               Liberty Toastmasters  6/20/2018   \n",
       "\n",
       "                                                 when location  \\\n",
       "3                        Every Wednesday, 10-11am;...     None   \n",
       "4         Every Wednesday until Jun. 27, 6:30-9pm;...     None   \n",
       "7                               Wed. Jun. 20 7-9pm...     None   \n",
       "9      Every Wednesday until Sep. 19, 4:30-7:30pm;...     None   \n",
       "10                       Wed. Jun. 20 11am-12:30pm...     None   \n",
       "11                           Wed. Jun. 20 6-7:30pm...     None   \n",
       "18  Every Wednesday from Jun. 20 to Sep. 5, 6-8pm;...     None   \n",
       "19        Every Wednesday until Jun. 20, 7-8:45pm;...     None   \n",
       "20  First, Third Wednesday until Jun. 20, 6-7:30pm...     None   \n",
       "\n",
       "                                              details  \n",
       "3   Read, talk, sing and play with your baby throu...  \n",
       "4   Pickin in the Park is a free community event s...  \n",
       "7   Tomaso's on Main, serving inside the American ...  \n",
       "9   It's a great place to come for dinner and soci...  \n",
       "10  Enjoy a free lunch and meet other local parent...  \n",
       "11  Dynamite Dads is a free, monthly event series ...  \n",
       "18  Time: 6pm-8pm Location: Gallatin River Lodge P...  \n",
       "19  We will study Buddha's teachings on the four l...  \n",
       "20       Join us for fun, fellowship and free speech.  "
      ]
     },
     "execution_count": 5,
     "metadata": {},
     "output_type": "execute_result"
    }
   ],
   "source": [
    "bozeMagData"
   ]
  },
  {
   "cell_type": "code",
   "execution_count": 4,
   "metadata": {},
   "outputs": [],
   "source": [
    "soup = msuData.lxml[4]\n",
    "import re"
   ]
  },
  {
   "cell_type": "code",
   "execution_count": 5,
   "metadata": {},
   "outputs": [],
   "source": [
    "locationList = [x.text for x in soup.find_all('dd')]"
   ]
  },
  {
   "cell_type": "code",
   "execution_count": 6,
   "metadata": {},
   "outputs": [
    {
     "data": {
      "text/plain": [
       "['Saturday, May 12, 2018 at 10:00am          ',\n",
       " \"            Leardini's, 50 Whitetail Lane, Ulm, MT\",\n",
       " \"\\nFind all the information here.\\n\\nClinicians Perry and Courtney Frank from Standing on the Rock Boer Goats out of Missoula will answer all of your goat questions from feeding, marketing, fitting, showing, and other topics.\\xa0 4-H members are encrouaged to bring their goats, fitting stands, and clippers to the boot camp.\\xa0 If you just have a goat, that's ok!\\xa0 Bring your goat and yourself along.\\xa0 A goat lunch will be provided at noon.\\nThe fee is $5/per member.\\xa0 The fee is non-refundable and for lunch.\\xa0 PLease make checks payable to Cascade County 4-H Livestock Leaders.\\xa0\\n\\n\\n\\n\",\n",
       " ' \\r\\n                                \\r\\n                Jerrica Seilstad                406-454-6980\\njerrica.seilstad@montana.edu \\n',\n",
       " '\\n\\n\\n Google Calendar \\n iCal\\n\\n\\n\\n']"
      ]
     },
     "execution_count": 6,
     "metadata": {},
     "output_type": "execute_result"
    }
   ],
   "source": [
    "locationList"
   ]
  },
  {
   "cell_type": "code",
   "execution_count": 10,
   "metadata": {},
   "outputs": [],
   "source": [
    "r = re.compile('.*')"
   ]
  },
  {
   "cell_type": "code",
   "execution_count": 13,
   "metadata": {},
   "outputs": [
    {
     "data": {
      "text/plain": [
       "'Saturday, May 12, 2018 at 10:00am...'"
      ]
     },
     "execution_count": 13,
     "metadata": {},
     "output_type": "execute_result"
    }
   ],
   "source": [
    "locationList = list(filter(r.search, locationList))\n",
    "locationList[0].strip() + '...'"
   ]
  },
  {
   "cell_type": "code",
   "execution_count": null,
   "metadata": {},
   "outputs": [],
   "source": []
  }
 ],
 "metadata": {
  "kernelspec": {
   "display_name": "stwfndr",
   "language": "python",
   "name": "stwfndr"
  },
  "language_info": {
   "codemirror_mode": {
    "name": "ipython",
    "version": 3
   },
   "file_extension": ".py",
   "mimetype": "text/x-python",
   "name": "python",
   "nbconvert_exporter": "python",
   "pygments_lexer": "ipython3",
   "version": "3.6.5"
  }
 },
 "nbformat": 4,
 "nbformat_minor": 2
}

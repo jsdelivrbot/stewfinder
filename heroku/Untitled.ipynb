{
 "cells": [
  {
   "cell_type": "code",
   "execution_count": 3,
   "metadata": {},
   "outputs": [],
   "source": [
    "import time\n",
    "import requests\n",
    "import soopProcess\n",
    "import soopPull\n",
    "\n",
    "# this will change for sure\n",
    "ROOT_URL = \"http://127.0.0.1:8000\"\n",
    "\n",
    "# put this in env variable pls\n",
    "AUTH_STR = \"Token 4847d6ca5fb338bd0f35531c4609a0d1bf67b5a6\"\n",
    "\n",
    "\n",
    "\n",
    "msu = soopProcess.processor(\n",
    "    'http://calendar.msu.montana.edu/events/',\n",
    "    startNum=26500,\n",
    "    endNum=26505,\n",
    "    urlType='numbered',\n",
    ")\n",
    "\n",
    "bozeMag = soopProcess.processor(\n",
    "    baseUrl='http://bozemanmagazine.com/events/calendar/' + time.strftime('%Y/%m/%d'),\n",
    "    linkRegex='/' + time.strftime('%Y/%m/%d') + '.*',\n",
    "    urlType='crawled',\n",
    "    linkBase='http://bozemanmagazine.com/events',\n",
    "    today=True,\n",
    ")\n",
    "\n",
    "\n",
    "    #important_weight=100,\n",
    "    #num_sentences=2\n"
   ]
  },
  {
   "cell_type": "code",
   "execution_count": 4,
   "metadata": {},
   "outputs": [],
   "source": [
    "links = bozeMag.check_links()"
   ]
  },
  {
   "cell_type": "code",
   "execution_count": 5,
   "metadata": {},
   "outputs": [
    {
     "data": {
      "text/plain": [
       "'http://bozemanmagazine.com/events/2018/06/15/63043_gary_small_the_coyote_brothers-28227-1'"
      ]
     },
     "execution_count": 5,
     "metadata": {},
     "output_type": "execute_result"
    }
   ],
   "source": [
    "links[0]"
   ]
  },
  {
   "cell_type": "code",
   "execution_count": 6,
   "metadata": {},
   "outputs": [],
   "source": [
    "msuData = msu.process(\n",
    "    whenTag='dd',\n",
    "    locationTag='dd',\n",
    "    #locationRegex='^(?!.*(Monday|Tuesday|Wednesday|Thursday|Friday|Saturday|Sunday))',\n",
    "    descTag='main',\n",
    "    descClass='col-sm-8',\n",
    "    important_weight=100,\n",
    "    num_sentences=2\n",
    ")\n",
    "\n",
    "bozeMagData = bozeMag.process(\n",
    "    whenTag='p',\n",
    "    whenClass='date',\n",
    "    descTag='div',\n",
    "    descClass='description',\n",
    "    # locationTag='address',\n",
    "    # locationClass='location_text',\n",
    "    important_weight=100,\n",
    "    num_sentences=2\n",
    ")\n"
   ]
  },
  {
   "cell_type": "code",
   "execution_count": 7,
   "metadata": {},
   "outputs": [
    {
     "data": {
      "text/html": [
       "<div>\n",
       "<style scoped>\n",
       "    .dataframe tbody tr th:only-of-type {\n",
       "        vertical-align: middle;\n",
       "    }\n",
       "\n",
       "    .dataframe tbody tr th {\n",
       "        vertical-align: top;\n",
       "    }\n",
       "\n",
       "    .dataframe thead th {\n",
       "        text-align: right;\n",
       "    }\n",
       "</style>\n",
       "<table border=\"1\" class=\"dataframe\">\n",
       "  <thead>\n",
       "    <tr style=\"text-align: right;\">\n",
       "      <th></th>\n",
       "      <th>lxml</th>\n",
       "      <th>outUrl</th>\n",
       "      <th>text</th>\n",
       "      <th>food</th>\n",
       "      <th>title</th>\n",
       "      <th>day</th>\n",
       "      <th>when</th>\n",
       "      <th>location</th>\n",
       "      <th>details</th>\n",
       "    </tr>\n",
       "  </thead>\n",
       "  <tbody>\n",
       "    <tr>\n",
       "      <th>1</th>\n",
       "      <td>&lt;!DOCTYPE html&gt;\n",
       "&lt;!--[if lt IE 7]&gt; &lt;html class=...</td>\n",
       "      <td>http://bozemanmagazine.com/events/2018/06/15/6...</td>\n",
       "      <td>Read, sing, talk, play, write together! Presch...</td>\n",
       "      <td>[free]</td>\n",
       "      <td>Preschool Storytime - Belgrade Community Library</td>\n",
       "      <td>6/15/2018</td>\n",
       "      <td>Every Friday until Jul. 27, 11:15am-noon;...</td>\n",
       "      <td>None</td>\n",
       "      <td>Preschool storytime includes stories, songs, a...</td>\n",
       "    </tr>\n",
       "    <tr>\n",
       "      <th>9</th>\n",
       "      <td>&lt;!DOCTYPE html&gt;\n",
       "&lt;!--[if lt IE 7]&gt; &lt;html class=...</td>\n",
       "      <td>http://bozemanmagazine.com/events/2018/06/15/6...</td>\n",
       "      <td>Wild Sheep Foundation is partnering with South...</td>\n",
       "      <td>[bbq, free]</td>\n",
       "      <td>Gear, Beer, and BBQ at Wild Sheep Foundation -...</td>\n",
       "      <td>6/15/2018</td>\n",
       "      <td>Fri. Jun. 15 3-7pm...</td>\n",
       "      <td>None</td>\n",
       "      <td>Wild Sheep Foundation is partnering with South...</td>\n",
       "    </tr>\n",
       "    <tr>\n",
       "      <th>11</th>\n",
       "      <td>&lt;!DOCTYPE html&gt;\n",
       "&lt;!--[if lt IE 7]&gt; &lt;html class=...</td>\n",
       "      <td>http://bozemanmagazine.com/events/2018/06/15/6...</td>\n",
       "      <td>An evening of music performed by local musicia...</td>\n",
       "      <td>[coffee]</td>\n",
       "      <td>Open Mic Night - Wild Joe's Coffee Spot</td>\n",
       "      <td>6/15/2018</td>\n",
       "      <td>Sat. Jun. 2 6pm...</td>\n",
       "      <td>None</td>\n",
       "      <td>Bring your guitar, sitar, zither, poetry, come...</td>\n",
       "    </tr>\n",
       "  </tbody>\n",
       "</table>\n",
       "</div>"
      ],
      "text/plain": [
       "                                                 lxml  \\\n",
       "1   <!DOCTYPE html>\n",
       "<!--[if lt IE 7]> <html class=...   \n",
       "9   <!DOCTYPE html>\n",
       "<!--[if lt IE 7]> <html class=...   \n",
       "11  <!DOCTYPE html>\n",
       "<!--[if lt IE 7]> <html class=...   \n",
       "\n",
       "                                               outUrl  \\\n",
       "1   http://bozemanmagazine.com/events/2018/06/15/6...   \n",
       "9   http://bozemanmagazine.com/events/2018/06/15/6...   \n",
       "11  http://bozemanmagazine.com/events/2018/06/15/6...   \n",
       "\n",
       "                                                 text         food  \\\n",
       "1   Read, sing, talk, play, write together! Presch...       [free]   \n",
       "9   Wild Sheep Foundation is partnering with South...  [bbq, free]   \n",
       "11  An evening of music performed by local musicia...     [coffee]   \n",
       "\n",
       "                                                title        day  \\\n",
       "1    Preschool Storytime - Belgrade Community Library  6/15/2018   \n",
       "9   Gear, Beer, and BBQ at Wild Sheep Foundation -...  6/15/2018   \n",
       "11            Open Mic Night - Wild Joe's Coffee Spot  6/15/2018   \n",
       "\n",
       "                                            when location  \\\n",
       "1   Every Friday until Jul. 27, 11:15am-noon;...     None   \n",
       "9                          Fri. Jun. 15 3-7pm...     None   \n",
       "11                            Sat. Jun. 2 6pm...     None   \n",
       "\n",
       "                                              details  \n",
       "1   Preschool storytime includes stories, songs, a...  \n",
       "9   Wild Sheep Foundation is partnering with South...  \n",
       "11  Bring your guitar, sitar, zither, poetry, come...  "
      ]
     },
     "execution_count": 7,
     "metadata": {},
     "output_type": "execute_result"
    }
   ],
   "source": [
    "bozeMagData"
   ]
  },
  {
   "cell_type": "code",
   "execution_count": 32,
   "metadata": {},
   "outputs": [],
   "source": [
    "postData = bozeMagData.loc[1]"
   ]
  },
  {
   "cell_type": "code",
   "execution_count": 33,
   "metadata": {},
   "outputs": [
    {
     "data": {
      "text/plain": [
       "lxml        <!DOCTYPE html>\n",
       "<!--[if lt IE 7]> <html class=...\n",
       "outUrl      http://bozemanmagazine.com/events/2018/06/15/6...\n",
       "text        Read, sing, talk, play, write together! Presch...\n",
       "food                                                   [free]\n",
       "title        Preschool Storytime - Belgrade Community Library\n",
       "day                                                 6/15/2018\n",
       "when             Every Friday until Jul. 27, 11:15am-noon;...\n",
       "location                                                 None\n",
       "details     Preschool storytime includes stories, songs, a...\n",
       "Name: 1, dtype: object"
      ]
     },
     "execution_count": 33,
     "metadata": {},
     "output_type": "execute_result"
    }
   ],
   "source": [
    "postData"
   ]
  },
  {
   "cell_type": "code",
   "execution_count": 11,
   "metadata": {},
   "outputs": [],
   "source": [
    "ROOT_URL = \"http://stewfinder-backend.us-west-2.elasticbeanstalk.com\"\n",
    "AUTH_STR = \"Token 1eefcbd33b05b8c56182ae2f953bdd7a33f367b4\""
   ]
  },
  {
   "cell_type": "code",
   "execution_count": 34,
   "metadata": {},
   "outputs": [],
   "source": [
    "import json\n",
    "import requests\n",
    "when = postData['when']\n",
    "day = postData['day']\n",
    "details = postData['details']\n",
    "location = postData['location']\n",
    "food = postData['food']\n",
    "outUrl = postData['outUrl']\n",
    "title = postData['title']\n",
    "obj = {\n",
    "    'title': title,\n",
    "    'details': details,\n",
    "    'food': food,\n",
    "    'day': day,\n",
    "    'outUrl': outUrl,\n",
    "    'when': when,\n",
    "    'location': location\n",
    "}\n",
    "data = json.dumps(obj)"
   ]
  },
  {
   "cell_type": "code",
   "execution_count": 38,
   "metadata": {},
   "outputs": [],
   "source": [
    "with requests.session() as client:\n",
    "    for row in postData:\n",
    "        client.post(\n",
    "            ROOT_URL + '/api/soops/',\n",
    "            data=data,\n",
    "            headers={'Authorization': AUTH_STR}\n",
    "        )"
   ]
  },
  {
   "cell_type": "code",
   "execution_count": 31,
   "metadata": {},
   "outputs": [
    {
     "data": {
      "text/plain": [
       "str"
      ]
     },
     "execution_count": 31,
     "metadata": {},
     "output_type": "execute_result"
    }
   ],
   "source": [
    "\n"
   ]
  },
  {
   "cell_type": "code",
   "execution_count": null,
   "metadata": {},
   "outputs": [],
   "source": []
  }
 ],
 "metadata": {
  "kernelspec": {
   "display_name": "datanal",
   "language": "python",
   "name": "datanal"
  },
  "language_info": {
   "codemirror_mode": {
    "name": "ipython",
    "version": 3
   },
   "file_extension": ".py",
   "mimetype": "text/x-python",
   "name": "python",
   "nbconvert_exporter": "python",
   "pygments_lexer": "ipython3",
   "version": "3.6.5"
  }
 },
 "nbformat": 4,
 "nbformat_minor": 2
}

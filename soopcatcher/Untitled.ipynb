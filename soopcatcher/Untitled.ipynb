{
 "cells": [
  {
   "cell_type": "code",
   "execution_count": 1,
   "metadata": {},
   "outputs": [],
   "source": [
    "import time\n",
    "import requests\n",
    "import soopProcess\n",
    "import soopPull\n",
    "\n",
    "# this will change for sure\n",
    "ROOT_URL = \"http://127.0.0.1:8000\"\n",
    "\n",
    "# put this in env variable pls\n",
    "AUTH_STR = \"Token 4847d6ca5fb338bd0f35531c4609a0d1bf67b5a6\"\n",
    "\n",
    "\n",
    "\n",
    "msu = soopProcess.processor(\n",
    "    'http://calendar.msu.montana.edu/events/',\n",
    "    startNum=24900,\n",
    "    endNum=24905,\n",
    "    urlType='numbered',\n",
    "    important_weight=100,\n",
    "    num_sentences=2\n",
    ")\n",
    "\n",
    "\n",
    "\n",
    "msuData = msu.process()"
   ]
  }
 ],
 "metadata": {
  "kernelspec": {
   "display_name": "Python 3",
   "language": "python",
   "name": "python3"
  },
  "language_info": {
   "codemirror_mode": {
    "name": "ipython",
    "version": 3
   },
   "file_extension": ".py",
   "mimetype": "text/x-python",
   "name": "python",
   "nbconvert_exporter": "python",
   "pygments_lexer": "ipython3",
   "version": "3.5.2"
  }
 },
 "nbformat": 4,
 "nbformat_minor": 2
}
